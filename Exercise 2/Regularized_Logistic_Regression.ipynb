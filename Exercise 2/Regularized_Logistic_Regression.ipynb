{
 "cells": [
  {
   "cell_type": "markdown",
   "metadata": {},
   "source": [
    "## Exercise\n",
    "\n",
    "In this exercise, you will implement regularized logistic regression to predict whether microchips from a fabrication plant passes quality assurance (QA). During QA, each microchip goes through various tests to ensure it is functioning correctly.\n",
    "Suppose you are the product manager of the factory and you have the test results for some microchips on two different tests. From these two tests, you would like to determine whether the microchips should be accepted or rejected. To help you make the decision, you have a dataset of test results on past microchips, from which you can build a logistic regression model.\n",
    "\n",
    "#### Importing libraries and data"
   ]
  },
  {
   "cell_type": "code",
   "execution_count": 1,
   "metadata": {},
   "outputs": [],
   "source": [
    "# Scientific and vector computation for python\n",
    "import numpy as np\n",
    "\n",
    "# Plotting library\n",
    "from matplotlib import pyplot as plt\n",
    "\n",
    "# Optimization module in scipy\n",
    "from scipy import optimize\n",
    "\n",
    "# tells matplotlib to embed plots within the notebook\n",
    "%matplotlib inline"
   ]
  },
  {
   "cell_type": "code",
   "execution_count": 2,
   "metadata": {},
   "outputs": [],
   "source": [
    "# Load data\n",
    "# The first two columns contains the exam scores and the third column contains the label.\n",
    "data = np.loadtxt('Data/ex2data2.txt', delimiter=',')\n",
    "x = data[:, 0:2]\n",
    "y = data[:, 2]"
   ]
  },
  {
   "cell_type": "markdown",
   "metadata": {},
   "source": [
    "#### Visualizing the data\n",
    "\n",
    "First I am going to visualize the data by creating the function `plotData` which will generate a scatter plot, where the axes are the two test scores, and the positive (y = 1, passed) and negative (y = 0, failed) examples are shown with different markers."
   ]
  },
  {
   "cell_type": "code",
   "execution_count": 3,
   "metadata": {},
   "outputs": [
    {
     "data": {
      "image/png": "[encoded data removed]",
      "text/plain": [
       "<Figure size 720x432 with 1 Axes>"
      ]
     },
     "metadata": {
      "needs_background": "light"
     },
     "output_type": "display_data"
    }
   ],
   "source": [
    "# Dividing the variable x into two different arrays: an array where the training examples have passed the Quality Assurance\n",
    "# and a second array where the training examples have failed the Quality Assurance.\n",
    "pos = x[np.where(y == 1)]\n",
    "neg = x[np.where(y == 0)]\n",
    "\n",
    "def plotData(x, y):\n",
    "    plt.figure(figsize=(10,6))\n",
    "    plt.plot(pos[:, 0], pos[:, 1], 'k+', ms=8)\n",
    "    plt.plot(neg[:, 0], neg[:, 1], 'ko', mfc='y', ms=8) # mfc is the color of the circle, ms is the size of the marker\n",
    "    plt.xlabel('Microchip test 1 result')\n",
    "    plt.ylabel('Microchip test 2 result')\n",
    "    plt.legend(['Passed', 'Failed'])\n",
    "    plt.grid(True)\n",
    "    \n",
    "plotData(x, y)"
   ]
  },
  {
   "cell_type": "markdown",
   "metadata": {},
   "source": [
    "From the scatter plot I can see that the best fit should be a polynomial function. This means that I will have to add more features and use regularization to make sure the decision boundary fits the data well.\n",
    "\n",
    "#### Feature mapping\n",
    "\n",
    "In order to fit the data well I will need to create more features from each data point. For this purpose the function `mapFeature` will be used to map the features into all polynomial terms of $x_1$ and $x_2$ up to the sixth power.\n",
    "\n",
    "$$ \\text{mapFeature}(x_1, x_2) = \\begin{bmatrix} 1 & x_1 & x_2 & x_1^2 & x_1 x_2 & x_2^2 & x_1^3 & \\dots & x_1 x_2^5 & x_2^6 \\end{bmatrix}^T $$"
   ]
  },
  {
   "cell_type": "code",
   "execution_count": 4,
   "metadata": {},
   "outputs": [],
   "source": [
    "def mapFeature(x1col, x2col, degree = 6):\n",
    "    output = np.ones((x1col.shape[0], 1)) # Creates column of 1's with the same number of rows as x1 and 1 column\n",
    "    \n",
    "    for i in range(1, degree + 1):\n",
    "        for j in range(0, i + 1):\n",
    "            # Reshapes term to be an array with same number of rows as x1 and 1 column\n",
    "            term  = ( (x1col ** (i-j)) * (x2col ** (j)) ).reshape(output.shape[0], 1)\n",
    "            output = np.hstack((output, term)) # stacks arrays column-wise\n",
    "    return output"
   ]
  },
  {
   "cell_type": "code",
   "execution_count": 5,
   "metadata": {},
   "outputs": [],
   "source": [
    "x = mapFeature(x[:, 0], x[:, 1])"
   ]
  },
  {
   "cell_type": "markdown",
   "metadata": {},
   "source": [
    "As a result, our vector of two features (the scores on two QA tests) has been transformed into a 28-dimensional vector.\n",
    "By using more features we have to use regularization to avoid overfitting.\n",
    "\n",
    "Note: In the `mapFeature` function the column of 1's for $x_0$ has already been added\n",
    "    \n",
    "#### Sigmoid function\n",
    "\n",
    "Before implementing the function which will compute the cost function and gradient, I will write the sigmoid function."
   ]
  },
  {
   "cell_type": "code",
   "execution_count": 6,
   "metadata": {},
   "outputs": [],
   "source": [
    "def sigmoid(z):\n",
    "    # First I convert the input into a numpy array - this way it accomodates the case that z is matrix or vector\n",
    "    z = np.array(z)\n",
    "    \n",
    "    g = 1 / (1 + np.exp(-z)) # np.exp calculates the exponential of all values in array\n",
    "\n",
    "    return g"
   ]
  },
  {
   "cell_type": "markdown",
   "metadata": {},
   "source": [
    "#### Cost function and gradient\n",
    "\n",
    "Now it is time to implement code to compute the cost function and gradient for regularized logistic regression. For this purporse I will create the function `costFunctionReg`.\n",
    "\n",
    "The regularized cost function in logistic regression is:\n",
    "\n",
    "$$ J(\\theta) = \\frac{1}{m} \\sum_{i=1}^m \\left[ -y^{(i)}\\log \\left( h_\\theta \\left(x^{(i)} \\right) \\right) - \\left( 1 - y^{(i)} \\right) \\log \\left( 1 - h_\\theta \\left( x^{(i)} \\right) \\right) \\right] + \\frac{\\lambda}{2m} \\sum_{j=1}^n \\theta_j^2 $$\n",
    " \n",
    "The gradient of the cost function is a vector where the $j^{th}$ element is defined as follows:\n",
    "\n",
    "$$ \\frac{\\partial J(\\theta)}{\\partial \\theta_0} = \\frac{1}{m} \\sum_{i=1}^m \\left( h_\\theta \\left(x^{(i)}\\right) - y^{(i)} \\right) x_j^{(i)} \\qquad \\text{for } j =0 $$\n",
    "\n",
    "$$ \\frac{\\partial J(\\theta)}{\\partial \\theta_j} = \\left( \\frac{1}{m} \\sum_{i=1}^m \\left( h_\\theta \\left(x^{(i)}\\right) - y^{(i)} \\right) x_j^{(i)} \\right) + \\frac{\\lambda}{m}\\theta_j \\qquad \\text{for } j \\ge 1 $$\n",
    "\n",
    "Note: I should not regularize the parameter $\\theta_0$ in the cost function and in the gradient."
   ]
  },
  {
   "cell_type": "code",
   "execution_count": 7,
   "metadata": {},
   "outputs": [],
   "source": [
    "# Setting the variables m (number of training examples) and n (number of features)\n",
    "m = y.shape[0]\n",
    "n = x.shape[1]\n",
    "\n",
    "def costFunctionReg(theta, x, y, lambda_):\n",
    "    # Initializing the variable grad in order to be used below\n",
    "    grad = np.zeros(theta.shape)\n",
    "\n",
    "    h = sigmoid(x.dot(theta.T)) # Hypothesis\n",
    "    \n",
    "    # Cost function value\n",
    "    J = (1 / m) * np.sum(-y.dot(np.log(h)) - (1 - y).dot(np.log(1 - h))) + (lambda_ / (2 * m)) * np.sum(theta[1:]**2)\n",
    "    \n",
    "    # Gradient\n",
    "    for i in range(len(theta)):\n",
    "        if i == 0:\n",
    "            grad[i] = (1 / m) * np.sum(h - y)\n",
    "        else:\n",
    "            grad[i] = (1 / m) * np.sum((h - y) * x[:, i]) + (lambda_ / m) * theta[i]\n",
    "    \n",
    "    return J, grad"
   ]
  },
  {
   "cell_type": "markdown",
   "metadata": {},
   "source": [
    "As in the previous exercise, I will use the `scipy.optimize` module. I will use the same function `scipy.optimize.minimize` in order to minimize the cost function and find the best parameters $\\theta$."
   ]
  },
  {
   "cell_type": "code",
   "execution_count": 8,
   "metadata": {},
   "outputs": [],
   "source": [
    "def optimizeTheta(costFunctionReg, theta, x, y, lambda_, options):\n",
    "# I will use truncated Newton algorithm for optimization which is equivalent to MATLAB's fminunc\n",
    "    result = optimize.minimize(costFunctionReg,\n",
    "                               theta,\n",
    "                               (x, y, lambda_),\n",
    "                               jac = True,\n",
    "                               method = 'TNC',\n",
    "                               options = options)\n",
    "\n",
    "    # The function returns an object `OptimizeResult`. The fun property of `OptimizeResult` object returns\n",
    "    # the value of the cost function at optimized theta\n",
    "    cost = result.fun\n",
    "\n",
    "    # the optimized theta is in the x property of `OptimizeResult` object\n",
    "    theta = result.x\n",
    "    \n",
    "    return cost, theta"
   ]
  },
  {
   "cell_type": "code",
   "execution_count": 9,
   "metadata": {},
   "outputs": [
    {
     "name": "stdout",
     "output_type": "stream",
     "text": [
      "Minimum cost found by optimize.minimize: 0.529\n",
      "Optimal theta values (only the first 3): 1.273, 0.625, 1.181\n"
     ]
    }
   ],
   "source": [
    "# Initializing parameters\n",
    "initial_theta = np.zeros(x.shape[1])\n",
    "\n",
    "# Setting regularization parameter\n",
    "lambda_ = 1\n",
    "\n",
    "cost, theta = optimizeTheta(costFunctionReg, initial_theta, x, y, lambda_, {'maxiter': 100})\n",
    "\n",
    "# Print theta to make sure it is working properly\n",
    "print('Minimum cost found by optimize.minimize: {:.3f}'.format(cost))\n",
    "print('Optimal theta values (only the first 3): {:.3f}, {:.3f}, {:.3f}'.format(*theta))"
   ]
  },
  {
   "cell_type": "markdown",
   "metadata": {},
   "source": [
    "Now I will use use the optimal values for $\\theta$ to visualize the decision boundary on the training data. For this I will use the function `plotDecisionBoundary` to draw the non-linear decision boundary."
   ]
  },
  {
   "cell_type": "code",
   "execution_count": 10,
   "metadata": {},
   "outputs": [
    {
     "data": {
      "text/plain": [
       "<Figure size 864x720 with 0 Axes>"
      ]
     },
     "metadata": {},
     "output_type": "display_data"
    },
    {
     "data": {
      "image/png": "[encoded data removed]",
      "text/plain": [
       "<Figure size 720x432 with 1 Axes>"
      ]
     },
     "metadata": {
      "needs_background": "light"
     },
     "output_type": "display_data"
    }
   ],
   "source": [
    "def plotDecisionBoundary(theta, x, y):\n",
    "    # Plot Data (remember first column in X is the intercept)\n",
    "    plotData(x[:, 1:3], y)\n",
    "    \n",
    "    # Here is the grid range\n",
    "    xvals = np.linspace(-1,1.5,50)\n",
    "    yvals = np.linspace(-1,1.5,50)\n",
    "    \n",
    "    zvals = np.zeros((len(xvals),len(yvals)))\n",
    "    \n",
    "    # Evaluate z = theta*x over the grid\n",
    "    for i in range(len(xvals)):\n",
    "        for j in range(len(yvals)):\n",
    "            featuresij = mapFeature(np.array([xvals[i]]), np.array([yvals[j]]))\n",
    "            zvals[i][j] = np.dot(theta, featuresij.T)\n",
    "    \n",
    "    zvals = zvals.T # important to transpose z before calling contour\n",
    "\n",
    "    plt.contour(xvals, yvals, zvals, levels=[0], linewidths=2, colors='g') # Plot line at z = 0\n",
    "    plt.contourf(xvals, yvals, zvals, levels=[np.min(zvals), 0, np.max(zvals)], cmap='Greens', alpha=0.4)\n",
    "    plt.title('Decision Boundary - lambda = %0.2f' % lambda_)\n",
    "\n",
    "plt.figure(figsize=(12,10))\n",
    "plotDecisionBoundary(theta, x, y)"
   ]
  },
  {
   "cell_type": "markdown",
   "metadata": {},
   "source": [
    "Finally, I will evaluate the accuracy of the learned model by making predictions on the training set. For that I will write a function called `predict` which will produce “1” or “0” predictions given a dataset and parameters $\\theta$. "
   ]
  },
  {
   "cell_type": "code",
   "execution_count": 11,
   "metadata": {},
   "outputs": [
    {
     "name": "stdout",
     "output_type": "stream",
     "text": [
      "Model accuracy: 83.05 %\n"
     ]
    }
   ],
   "source": [
    "def predict(theta, x):\n",
    "    # Initializing variable p with the same length as the number of training examples\n",
    "    p = np.zeros(m)\n",
    "\n",
    "    h = sigmoid(x.dot(theta.T)) # Hypothesis\n",
    "    \n",
    "    for i in range(m):\n",
    "        if h[i] >= 0.5:\n",
    "            p[i] = 1\n",
    "        else:\n",
    "            p[i] = 0\n",
    "    \n",
    "    return p\n",
    "\n",
    "# Compute accuracy on our training set\n",
    "p = predict(theta, x)\n",
    "\n",
    "print('Model accuracy: {:.2f} %'.format(np.mean(p == y) * 100))"
   ]
  },
  {
   "cell_type": "markdown",
   "metadata": {},
   "source": [
    "The prediction accuracy for the learned model on the training set is 83.05% which is good but still has quite some room for improvement. It needs improvement before being able to be used to make predictions on future microchips."
   ]
  }
 ],
 "metadata": {
  "kernelspec": {
   "display_name": "Python 3",
   "language": "python",
   "name": "python3"
  },
  "language_info": {
   "codemirror_mode": {
    "name": "ipython",
    "version": 3
   },
   "file_extension": ".py",
   "mimetype": "text/x-python",
   "name": "python",
   "nbconvert_exporter": "python",
   "pygments_lexer": "ipython3",
   "version": "3.7.6"
  }
 },
 "nbformat": 4,
 "nbformat_minor": 4
}
