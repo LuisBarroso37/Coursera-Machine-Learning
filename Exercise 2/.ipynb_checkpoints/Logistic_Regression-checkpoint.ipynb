{
 "cells": [
  {
   "cell_type": "markdown",
   "metadata": {},
   "source": [
    "## Exercise\n",
    "\n",
    "In this exercise, you will build a logistic regression model to predict whether a student gets admitted into a university. Suppose that you are the administrator of a university department and you want to determine each applicant’s chance of admission based on their results on two exams. You have historical data from previous applicants that you can use as a training set for logistic regression. For each training example, you have the applicant’s scores on two exams and the admissions decision. Your task is to build a classification model that estimates an applicant’s probability of admission based the scores from those two exams. \n",
    "\n",
    "#### Importing libraries and data"
   ]
  },
  {
   "cell_type": "code",
   "execution_count": 1,
   "metadata": {},
   "outputs": [],
   "source": [
    "# Scientific and vector computation for python\n",
    "import numpy as np\n",
    "\n",
    "# Plotting library\n",
    "from matplotlib import pyplot as plt\n",
    "\n",
    "# Optimization module in scipy\n",
    "from scipy import optimize\n",
    "\n",
    "# tells matplotlib to embed plots within the notebook\n",
    "%matplotlib inline"
   ]
  },
  {
   "cell_type": "code",
   "execution_count": 2,
   "metadata": {},
   "outputs": [],
   "source": [
    "# Load data\n",
    "# The first two columns contains the exam scores and the third column contains the label.\n",
    "data = np.loadtxt('Data/ex2data1.txt', delimiter=',')\n",
    "x = data[:, 0:2]\n",
    "y = data[:, 2]"
   ]
  },
  {
   "cell_type": "markdown",
   "metadata": {},
   "source": [
    "#### Visualizing the data\n",
    "Before starting to implement the learning algorithm, I am going to visualize the data to have an idea of what I am working with. For this I will create a function called 'plotData' which will create a scatterplot with the two variables."
   ]
  },
  {
   "cell_type": "code",
   "execution_count": 3,
   "metadata": {},
   "outputs": [
    {
     "data": {
      "image/png": "[encoded data removed]",
      "text/plain": [
       "<Figure size 720x432 with 1 Axes>"
      ]
     },
     "metadata": {
      "needs_background": "light"
     },
     "output_type": "display_data"
    }
   ],
   "source": [
    "# Dividing the variable x into two different arrays: an array where the training examples have a classification of 1 and a \n",
    "# second array where the training examples have a classification of 0.\n",
    "# This way it is easier to plot the data by the classification\n",
    "pos = x[np.where(y == 1)]\n",
    "neg = x[np.where(y == 0)]\n",
    "\n",
    "def plotData(x, y):\n",
    "    plt.figure(figsize=(10,6))\n",
    "    plt.plot(pos[:, 0], pos[:, 1], 'k+', ms=8)\n",
    "    plt.plot(neg[:, 0], neg[:, 1], 'ko', mfc='y', ms=8) # mfc is the color of the circle, ms is the size of the marker\n",
    "    plt.xlabel('Exam 1 score')\n",
    "    plt.ylabel('Exam 2 score')\n",
    "    plt.legend(['Admitted', 'Not admitted'])\n",
    "    plt.grid(True)\n",
    "    \n",
    "plotData(x, y)"
   ]
  },
  {
   "cell_type": "markdown",
   "metadata": {},
   "source": [
    "Before doing anything else, I will add a column of 1's as the first column of the variable x that correspond to $x_0$ and also setup the variables m and n."
   ]
  },
  {
   "cell_type": "code",
   "execution_count": 4,
   "metadata": {},
   "outputs": [],
   "source": [
    "m, n = x.shape # m is the number of training examples and n is the number of features\n",
    "\n",
    "# Add column of 1's as the first column of the variable x\n",
    "x = np.concatenate([np.ones((m, 1)), x], axis=1)"
   ]
  },
  {
   "cell_type": "markdown",
   "metadata": {},
   "source": [
    "#### Sigmoid function\n",
    "\n",
    "Since I am working with logistic regression, my hypothesis is defined as:\n",
    "\n",
    "$$ h_\\theta(x) = g(\\theta^T x)$$\n",
    "\n",
    "where the function $g$ is the sigmoid function. The sigmoid function is defined as: \n",
    "\n",
    "$$g(z) = \\frac{1}{1+e^{-z}}$$.\n",
    "\n",
    "So, first I will start by creating this sigmoid function. This allows me to reuse it in other parts of my code and makes things easier for me in the future."
   ]
  },
  {
   "cell_type": "code",
   "execution_count": 5,
   "metadata": {},
   "outputs": [],
   "source": [
    "def sigmoid(z):\n",
    "    # First I convert the input into a numpy array - this way it accomodates the case that z is matrix or vector\n",
    "    z = np.array(z)\n",
    "    \n",
    "    g = 1 / (1 + np.exp(-z)) # np.exp calculates the exponential of all values in array\n",
    "\n",
    "    return g"
   ]
  },
  {
   "cell_type": "markdown",
   "metadata": {},
   "source": [
    "#### Cost function and gradient"
   ]
  },
  {
   "cell_type": "markdown",
   "metadata": {},
   "source": [
    "Now that I have created the sigmoid function, it is time to implement the cost function and the gradient.\n",
    "The cost function in logistic regression is defined as:\n",
    "\n",
    "$$ J(\\theta) = \\frac{1}{m} \\sum_{i=1}^{m} \\left[ -y^{(i)} \\log\\left(h_\\theta\\left( x^{(i)} \\right) \\right) - \\left( 1 - y^{(i)}\\right) \\log \\left( 1 - h_\\theta\\left( x^{(i)} \\right) \\right) \\right]$$\n",
    "\n",
    "\n",
    "and the gradient of the cost is a vector of the same length as $\\theta$ where the $j^{th}$\n",
    "element (for $j = 0, 1, \\cdots , n$) is defined as follows:\n",
    "\n",
    "$$ \\frac{\\partial J(\\theta)}{\\partial \\theta_j} = \\frac{1}{m} \\sum_{i=1}^m \\left( h_\\theta \\left( x^{(i)} \\right) - y^{(i)} \\right) x_j^{(i)} $$\n",
    "\n",
    "I will write a function that gives us the value of the cost function and the gradient based on the parameters $\\theta$ and the features $x$."
   ]
  },
  {
   "cell_type": "code",
   "execution_count": 6,
   "metadata": {},
   "outputs": [],
   "source": [
    "def costFunction(theta, x, y):\n",
    "    # Initializing variable grad to be used below\n",
    "    grad = np.zeros(theta.shape)\n",
    "    \n",
    "    h = sigmoid(x.dot(theta.T)) #hypothesis\n",
    "    \n",
    "    J = (1 / m) * np.sum((-y.T * np.log(h)) - ((1 - y).T) * np.log(1 - h)) #cost function value\n",
    "    \n",
    "    for i in range(len(theta)): #gradient\n",
    "        grad[i] = (1 / m) * np.sum((h - y) * x[:, i])\n",
    "    \n",
    "    return J, grad"
   ]
  },
  {
   "cell_type": "markdown",
   "metadata": {},
   "source": [
    "Instead of using gradient descent, I will use the `scipy.optimize` module. The function `scipy.optimize.minimize` is the method to use for optimization problems (both constrained and unconstrained).\n",
    "I will use this function to find the best parameters $\\theta$ for the cost function and for that I will need to pass the following inputs to the function:\n",
    "- `costFunction`: A cost function that, when given the training set and a particular $\\theta$, computes the logistic regression cost and gradient with respect to $\\theta$ for the dataset (x, y). It is important to note that we only pass the name of the function without the parenthesis. This indicates that we are only providing a reference to this function, and not evaluating the result from this function.\n",
    "- `initial_theta`: The initial values of the parameters we are trying to optimize.\n",
    "- `(x, y)`: These are additional arguments to the cost function.\n",
    "- `jac`: Indication if the cost function returns the Jacobian (gradient) along with cost value. (Which is == True)\n",
    "- `method`: Optimization method/algorithm to use\n",
    "- `options`: Additional options which might be specific to the specific optimization method. In this case, I will only define the maximum number of iterations.\n",
    "\n",
    "Note: By using `optimize.minimize`, I don't have to write any loops or set a learning rate like I do for gradient descent. This is all done by `optimize.minimize`: I only need to provide a function calculating the cost function and the gradient."
   ]
  },
  {
   "cell_type": "code",
   "execution_count": 7,
   "metadata": {},
   "outputs": [],
   "source": [
    "def optimizeTheta(costFunction, theta, x, y, options):\n",
    "# I will use truncated Newton algorithm for optimization which is equivalent to MATLAB's fminunc\n",
    "    result = optimize.minimize(costFunction,\n",
    "                               theta,\n",
    "                               (x, y),\n",
    "                               jac = True,\n",
    "                               method = 'TNC',\n",
    "                               options = options)\n",
    "\n",
    "    # The function returns an object `OptimizeResult`. The fun property of `OptimizeResult` object returns\n",
    "    # the value of the cost function at optimized theta\n",
    "    cost = result.fun\n",
    "\n",
    "    # the optimized theta is in the x property of `OptimizeResult` object\n",
    "    theta = result.x\n",
    "    \n",
    "    return cost, theta"
   ]
  },
  {
   "cell_type": "markdown",
   "metadata": {},
   "source": [
    "If I wrote the `costFunction` correctly, `optimize.minimize` will converge on the right optimization parameters and return the final values of the cost and $\\theta$."
   ]
  },
  {
   "cell_type": "code",
   "execution_count": 8,
   "metadata": {},
   "outputs": [
    {
     "name": "stdout",
     "output_type": "stream",
     "text": [
      "Minimum cost found by optimize.minimize: 0.203\n",
      "Optimal theta values: -25.161, 0.206, 0.201\n"
     ]
    }
   ],
   "source": [
    "# Set initial theta values\n",
    "initial_theta = np.zeros(n + 1)\n",
    "\n",
    "cost, theta = optimizeTheta(costFunction, initial_theta, x, y, {'maxiter': 400})\n",
    "\n",
    "# Print theta to make sure it is working properly\n",
    "print('Minimum cost found by optimize.minimize: {:.3f}'.format(cost))\n",
    "print('Optimal theta values: {:.3f}, {:.3f}, {:.3f}'.format(*theta))"
   ]
  },
  {
   "cell_type": "markdown",
   "metadata": {},
   "source": [
    "Now I will use use the optimal values for $\\theta$ to visualize the decision boundary on the training data."
   ]
  },
  {
   "cell_type": "code",
   "execution_count": 9,
   "metadata": {},
   "outputs": [
    {
     "data": {
      "text/plain": [
       "<matplotlib.legend.Legend at 0x23a15db2408>"
      ]
     },
     "execution_count": 9,
     "metadata": {},
     "output_type": "execute_result"
    },
    {
     "data": {
      "image/png": "[encoded data removed]",
      "text/plain": [
       "<Figure size 720x432 with 1 Axes>"
      ]
     },
     "metadata": {
      "needs_background": "light"
     },
     "output_type": "display_data"
    }
   ],
   "source": [
    "# Decision boundary occurs when theta0 + theta1 * x1 + theta2 * x2 = 0\n",
    "# So, we get: x2 = (-1 / theta2) * (theta0 + theta1 * x1)\n",
    "\n",
    "boundary_x = np.array([np.min(x[:,1]), np.max(x[:,1])]) # Only need 2 points to define a line, so choose two endpoints\n",
    "boundary_y = (-1 / theta[2]) * (theta[0] + theta[1] * boundary_x) # Calculate the decision boundary line\n",
    "\n",
    "plotData(x[:, 1:], y) # First column of x is only 1's so we don't take it into account\n",
    "plt.plot(boundary_x, boundary_y, 'b-')\n",
    "plt.legend(['Admitted', 'Not admitted', 'Decision Boundary'])"
   ]
  },
  {
   "cell_type": "markdown",
   "metadata": {},
   "source": [
    "To evaluate the quality of the parameters found I will see how well the learned model predicts on our training set and evaluate its accuracy. For that I will write a function called `predict` which will produce “1” or “0” predictions given a dataset and parameters $\\theta$. "
   ]
  },
  {
   "cell_type": "code",
   "execution_count": 10,
   "metadata": {},
   "outputs": [
    {
     "name": "stdout",
     "output_type": "stream",
     "text": [
      "Model accuracy: 89.00 %\n"
     ]
    }
   ],
   "source": [
    "def predict(theta, x):\n",
    "    # Initializing variable p with the same length as the number of training examples\n",
    "    p = np.zeros(m)\n",
    "\n",
    "    h = sigmoid(x.dot(theta.T)) # Hypothesis\n",
    "    \n",
    "    for i in range(m):\n",
    "        if h[i] >= 0.5:\n",
    "            p[i] = 1\n",
    "        else:\n",
    "            p[i] = 0\n",
    "    \n",
    "    return p\n",
    "\n",
    "p = predict(theta, x)\n",
    "print('Model accuracy: {:.2f} %'.format(np.mean(p == y) * 100))"
   ]
  },
  {
   "cell_type": "markdown",
   "metadata": {},
   "source": [
    "This model predicted the admission of students into university from the training set with 89% accuracy which is pretty good.\n",
    "\n",
    "Finally, all that is left to do is to make a prediction for a new student. For this prediction I will use a student that has an Exam 1 score of 45 and an Exam 2 score of 85."
   ]
  },
  {
   "cell_type": "code",
   "execution_count": 11,
   "metadata": {},
   "outputs": [
    {
     "name": "stdout",
     "output_type": "stream",
     "text": [
      "For a student with exam scores of 45 and 85, respectively, the model predicts an admission probability of 77.63%\n"
     ]
    }
   ],
   "source": [
    "prediction = sigmoid(np.dot([1, 45, 85], theta))\n",
    "print('For a student with exam scores of 45 and 85, respectively, the model predicts'\n",
    "      f' an admission probability of {round(prediction, 4) * 100}%')"
   ]
  }
 ],
 "metadata": {
  "kernelspec": {
   "display_name": "Python 3",
   "language": "python",
   "name": "python3"
  },
  "language_info": {
   "codemirror_mode": {
    "name": "ipython",
    "version": 3
   },
   "file_extension": ".py",
   "mimetype": "text/x-python",
   "name": "python",
   "nbconvert_exporter": "python",
   "pygments_lexer": "ipython3",
   "version": "3.7.6"
  }
 },
 "nbformat": 4,
 "nbformat_minor": 4
}
