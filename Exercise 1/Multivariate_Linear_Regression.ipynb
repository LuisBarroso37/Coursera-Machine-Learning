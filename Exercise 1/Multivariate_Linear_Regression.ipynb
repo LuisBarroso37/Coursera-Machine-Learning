{
 "cells": [
  {
   "cell_type": "markdown",
   "metadata": {},
   "source": [
    "## Exercise\n",
    "\n",
    "You will implement linear regression with multiple variables to predict the prices of houses. Suppose you are selling your house and you want to know what a good market price would be. One way to do this is to first collect information on recent houses sold and make a model of housing prices.\n",
    "\n",
    "The file `Data/ex1data2.txt` contains a training set of housing prices in Portland, Oregon. The first column is the size of the house (in square feet), the second column is the number of bedrooms, and the third column is the price\n",
    "of the house. "
   ]
  },
  {
   "cell_type": "markdown",
   "metadata": {},
   "source": [
    "#### Importing libraries and data"
   ]
  },
  {
   "cell_type": "code",
   "execution_count": 1,
   "metadata": {},
   "outputs": [],
   "source": [
    "# Scientific and vector computation for python\n",
    "import numpy as np\n",
    "\n",
    "# Plotting library\n",
    "from matplotlib import pyplot as plt\n",
    "\n",
    "# tells matplotlib to embed plots within the notebook\n",
    "%matplotlib inline"
   ]
  },
  {
   "cell_type": "code",
   "execution_count": 2,
   "metadata": {},
   "outputs": [
    {
     "name": "stdout",
     "output_type": "stream",
     "text": [
      "     x0    x1      y\n",
      "    2104   3    399900\n",
      "    1600   3    329900\n",
      "    2400   3    369000\n",
      "    1416   2    232000\n",
      "    3000   4    539900\n",
      "    1985   4    299900\n",
      "    1534   3    314900\n",
      "    1427   3    198999\n",
      "    1380   3    212000\n",
      "    1494   3    242500\n"
     ]
    }
   ],
   "source": [
    "# Read comma separated data\n",
    "data = np.loadtxt('Data/ex1data2.txt', delimiter=',')\n",
    "x = data[:, :2]\n",
    "y = data[:, 2]\n",
    "\n",
    "m = y.size  # number of training examples\n",
    "\n",
    "print('{:>7s}{:>6s}{:>7s}'.format('x0', 'x1', 'y'))\n",
    "for i in range(10):\n",
    "    print('{:8.0f}{:4.0f}{:10.0f}'.format(x[i, 0], x[i, 1], y[i]))"
   ]
  },
  {
   "cell_type": "markdown",
   "metadata": {},
   "source": [
    "From the printed values I can see that the range of values for the two features is quite different so I will use mean normalization to scale the variables.\n",
    "\n",
    "I will use the standard deviation instead of the range (max - min).\n",
    "\n",
    "#### Mean Normalization:"
   ]
  },
  {
   "cell_type": "code",
   "execution_count": 3,
   "metadata": {},
   "outputs": [
    {
     "name": "stdout",
     "output_type": "stream",
     "text": [
      "Computed mean: [2000.68085106    3.17021277]\n",
      "Computed standard deviation: [7.86202619e+02 7.52842809e-01]\n"
     ]
    }
   ],
   "source": [
    "def meanNormalization(x):\n",
    "    x_norm = x.copy()\n",
    "    mean = np.zeros(x.shape[1]) # .shape[1] gives the number of columns in X\n",
    "    std = np.zeros(x.shape[1])\n",
    "    \n",
    "    for i in range(len(mean)):\n",
    "        mean[i] = x_norm[:, i].mean()\n",
    "        std[i] = x_norm[:, i].std()\n",
    "        \n",
    "    x_norm = (x_norm - mean) / std\n",
    "    \n",
    "    return x_norm, mean, std\n",
    "\n",
    "x_norm, mean, std = meanNormalization(x)\n",
    "print('Computed mean:', mean)\n",
    "print('Computed standard deviation:', std)"
   ]
  },
  {
   "cell_type": "markdown",
   "metadata": {},
   "source": [
    "After scaling the variables, I am going to do add a column of 1's to the variable $x$ as the first column. This column represents the $x_0$ variable."
   ]
  },
  {
   "cell_type": "code",
   "execution_count": 4,
   "metadata": {},
   "outputs": [],
   "source": [
    "x = np.concatenate([np.ones((m, 1)), x_norm], axis=1) # Only run this cell once"
   ]
  },
  {
   "cell_type": "markdown",
   "metadata": {},
   "source": [
    "#### Cost Function Computing:"
   ]
  },
  {
   "cell_type": "code",
   "execution_count": 5,
   "metadata": {},
   "outputs": [],
   "source": [
    "def computeCostFunction(x, y, theta):\n",
    "    h = x.dot(theta.T)\n",
    "    J = (1 / (2 * m)) * np.sum((h - y)**2)\n",
    "\n",
    "    return J"
   ]
  },
  {
   "cell_type": "markdown",
   "metadata": {},
   "source": [
    "#### Gradient Descent:"
   ]
  },
  {
   "cell_type": "code",
   "execution_count": 6,
   "metadata": {},
   "outputs": [],
   "source": [
    "def gradientDescent(x, y, theta, alpha, num_iterations):\n",
    "    # Make a copy of theta, which will be updated by gradient descent\n",
    "    theta = theta.copy()\n",
    "    \n",
    "    J_history = [] # Use a list to save cost in every iteration\n",
    "    \n",
    "    for i in range(num_iterations):\n",
    "        temp = np.zeros(theta.shape)\n",
    "        for j in range(len(theta)):\n",
    "            h = x.dot(theta.T)\n",
    "            temp[j] = theta[j] - alpha * (1 / m) * np.sum((h - y) * x[:, j])\n",
    "        \n",
    "        theta = temp\n",
    "        # =================================================================\n",
    "        \n",
    "        # save the cost J in every iteration\n",
    "        J_history.append(computeCostFunction(x, y, theta))\n",
    "    \n",
    "    return theta, J_history"
   ]
  },
  {
   "cell_type": "markdown",
   "metadata": {},
   "source": [
    "After creating the two functions, it is time to run the gradient descent algorithm to find the parameters $\\theta$ that minimize the cost function $J(\\theta)$."
   ]
  },
  {
   "cell_type": "code",
   "execution_count": 7,
   "metadata": {},
   "outputs": [
    {
     "name": "stdout",
     "output_type": "stream",
     "text": [
      "Theta computed from gradient descent: [340412.65957447 109447.79342115  -6578.35467093]\n"
     ]
    },
    {
     "data": {
      "image/png": "[encoded data removed]",
      "text/plain": [
       "<Figure size 720x432 with 1 Axes>"
      ]
     },
     "metadata": {
      "needs_background": "light"
     },
     "output_type": "display_data"
    }
   ],
   "source": [
    "# Choose learning rate and number of iterations\n",
    "alpha = 1\n",
    "num_iterations = 30\n",
    "\n",
    "# Initialize theta and run gradient descent\n",
    "theta = np.zeros(3)\n",
    "theta, J_history = gradientDescent(x, y, theta, alpha, num_iterations)\n",
    "\n",
    "# Plot the convergence graph to check if cost function is converging\n",
    "plt.figure(figsize=(10,6))\n",
    "plt.plot(list(range(num_iterations)), J_history, lw=2)\n",
    "plt.grid(True)\n",
    "plt.title(\"Convergence of Cost Function\")\n",
    "plt.xlabel('Number of iterations')\n",
    "plt.ylabel('Cost function')\n",
    "\n",
    "# Display the gradient descent's result\n",
    "print('Theta computed from gradient descent: {:s}'.format(str(theta)))"
   ]
  },
  {
   "cell_type": "markdown",
   "metadata": {},
   "source": [
    "With this graph we can check that the alpha we chose is good and that the cost function converges to a mininum value.\n",
    "\n",
    "Now all that is left is using our hypothesis function to make a predicition about the price of a 1650 sq-ft, 3 bedroom house."
   ]
  },
  {
   "cell_type": "code",
   "execution_count": 8,
   "metadata": {},
   "outputs": [
    {
     "name": "stdout",
     "output_type": "stream",
     "text": [
      "Predicted price of a 1650 sq-ft, 3 bedroom house (using gradient descent): $293081\n"
     ]
    }
   ],
   "source": [
    "house_variables = [1650., 3.]\n",
    "for i in range(len(mean)):\n",
    "    house_variables[i] = (house_variables[i] - mean[i]) / std[i] # mean normalization of the values so that it is possible \n",
    "    # to get an accurate prediction given that we mean normalized the variables before\n",
    "house_variables.insert(0, 1) # Insert value of 1 as the first value of the list in order to be able to compute the prediction\n",
    "\n",
    "price = np.dot(house_variables, theta)\n",
    "\n",
    "# ===================================================================\n",
    "\n",
    "print('Predicted price of a 1650 sq-ft, 3 bedroom house (using gradient descent): ${:.0f}'.format(price))"
   ]
  },
  {
   "cell_type": "markdown",
   "metadata": {},
   "source": [
    "### Normal Equation\n",
    "\n",
    "Now I will use the normal equation in order to get the same price prediction.\n",
    "\n",
    "The normal equation is the following:\n",
    "$$ \\theta = \\left( X^T X\\right)^{-1} X^T\\vec{y}$$\n",
    "\n",
    "Using this formula doesn't require any feature scaling, and I will get an exact solution in one calculation: there is no “loop until convergence” like in gradient descent. \n",
    "\n",
    "First, I will reload the data to ensure that the variables have not been modified."
   ]
  },
  {
   "cell_type": "code",
   "execution_count": 9,
   "metadata": {},
   "outputs": [],
   "source": [
    "data = np.loadtxt('Data/ex1data2.txt', delimiter=',')\n",
    "x = data[:, :2]\n",
    "y = data[:, 2]\n",
    "m = y.size\n",
    "x = np.concatenate([np.ones((m, 1)), x], axis=1) # Inserting column of 1's as the first column in variable x"
   ]
  },
  {
   "cell_type": "code",
   "execution_count": 12,
   "metadata": {},
   "outputs": [],
   "source": [
    "def normalEquation(x, y):\n",
    "    theta = np.zeros(x.shape[1])\n",
    "    \n",
    "    #theta = np.linalg.pinv(X.T.dot(X)).dot(X.T).dot(y) - this is another possible solution\n",
    "    theta = np.linalg.multi_dot([np.linalg.pinv(x.T.dot(x)), x.T, y])\n",
    "    \n",
    "    return theta"
   ]
  },
  {
   "cell_type": "code",
   "execution_count": 13,
   "metadata": {},
   "outputs": [
    {
     "name": "stdout",
     "output_type": "stream",
     "text": [
      "Theta computed from the normal equation: [89597.90954361   139.21067402 -8738.01911255]\n",
      "Predicted price of a 1650 sq-ft, 3 bedroom house (using normal equation): $293081\n"
     ]
    }
   ],
   "source": [
    "# Calculate the parameters from the normal equation\n",
    "theta = normalEquation(x, y);\n",
    "\n",
    "# Display normal equation's result\n",
    "print('Theta computed from the normal equation: {:s}'.format(str(theta)));\n",
    "\n",
    "# Estimate the price of a 1650 sq-ft, 3 bedroom house\n",
    "price = np.dot([1, 1650, 3], theta)\n",
    "\n",
    "print('Predicted price of a 1650 sq-ft, 3 bedroom house (using normal equation): ${:.0f}'.format(price))"
   ]
  },
  {
   "cell_type": "markdown",
   "metadata": {},
   "source": [
    "As we can see the result is exactly the same whether we use gradient descent or the normal equation except the normal equation is quite simpler to use in this exercise."
   ]
  }
 ],
 "metadata": {
  "kernelspec": {
   "display_name": "Python 3",
   "language": "python",
   "name": "python3"
  },
  "language_info": {
   "codemirror_mode": {
    "name": "ipython",
    "version": 3
   },
   "file_extension": ".py",
   "mimetype": "text/x-python",
   "name": "python",
   "nbconvert_exporter": "python",
   "pygments_lexer": "ipython3",
   "version": "3.7.6"
  }
 },
 "nbformat": 4,
 "nbformat_minor": 4
}
